{
 "cells": [
  {
   "cell_type": "code",
   "execution_count": 1,
   "metadata": {},
   "outputs": [
    {
     "name": "stdout",
     "output_type": "stream",
     "text": [
      "            username              password        country\n",
      "0         george.see         george.see123  PH, Indonesia\n",
      "1           mai.doan           mai.doan123        Vietnam\n",
      "2       justin.chong       justin.chong123       Malaysia\n",
      "3       quincy.chang       quincy.chang123         Taiwan\n",
      "4  thanathip.pinkaew  thanathip.pinkaew123       Thailand\n",
      "\n",
      "               username                password      country\n",
      "0         paulm.siahaan        paulm.siahaan123    Indonesia\n",
      "1         rizky.sondakh        rizky.sondakh123          NaN\n",
      "2        adisatya.nyssa       adisatya.nyssa123          NaN\n",
      "3        layabel.garcia       layabel.garcia123  Philippines\n",
      "4         john.quilatan        john.quilatan123          NaN\n",
      "5              duy.pham             duy.pham123      Vietnam\n",
      "6            khoa.trinh           khoa.trinh123          NaN\n",
      "7            hoi.nguyen           hoi.nguyen123          NaN\n",
      "8            anh.nguyen           anh.nguyen123          NaN\n",
      "9               tiem.vi              tiem.vi123          NaN\n",
      "10            ethan.koh            ethan.koh123     Malaysia\n",
      "11            iris.lung            iris.lung123       Taiwan\n",
      "12          harrit.siri          harrit.siri123     Thailand\n",
      "13  duangrat.khumsuksri  duangrat.khumsuksri123          NaN\n",
      "14          pantira.tri          pantira.tri123          NaN\n"
     ]
    }
   ],
   "source": [
    " # Read the csv files.\n",
    "import pandas as pd\n",
    "import numpy as np\n",
    "\n",
    "sales_leaders_file_path = '../../raw_data/sales_leaders.csv'\n",
    "sales_people_file_path = '../../raw_data/sales_people.csv'\n",
    "\n",
    "sales_leaders_df = pd.read_csv(sales_leaders_file_path)\n",
    "sales_people_df = pd.read_csv(sales_people_file_path)\n",
    "\n",
    "print(sales_leaders_df)\n",
    "print()\n",
    "print(sales_people_df)"
   ]
  },
  {
   "cell_type": "code",
   "execution_count": null,
   "metadata": {},
   "outputs": [],
   "source": []
  }
 ],
 "metadata": {
  "kernelspec": {
   "display_name": ".venv",
   "language": "python",
   "name": "python3"
  },
  "language_info": {
   "codemirror_mode": {
    "name": "ipython",
    "version": 3
   },
   "file_extension": ".py",
   "mimetype": "text/x-python",
   "name": "python",
   "nbconvert_exporter": "python",
   "pygments_lexer": "ipython3",
   "version": "3.10.12"
  }
 },
 "nbformat": 4,
 "nbformat_minor": 2
}
